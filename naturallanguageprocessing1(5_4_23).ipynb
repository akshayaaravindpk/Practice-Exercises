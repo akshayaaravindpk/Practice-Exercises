{
  "nbformat": 4,
  "nbformat_minor": 0,
  "metadata": {
    "colab": {
      "provenance": [],
      "authorship_tag": "ABX9TyN3gA731B2rF7ZKRyLrH2eg",
      "include_colab_link": true
    },
    "kernelspec": {
      "name": "python3",
      "display_name": "Python 3"
    },
    "language_info": {
      "name": "python"
    }
  },
  "cells": [
    {
      "cell_type": "markdown",
      "metadata": {
        "id": "view-in-github",
        "colab_type": "text"
      },
      "source": [
        "<a href=\"https://colab.research.google.com/github/akshayaaravindpk/ML/blob/main/naturallanguageprocessing1(5_4_23).ipynb\" target=\"_parent\"><img src=\"https://colab.research.google.com/assets/colab-badge.svg\" alt=\"Open In Colab\"/></a>"
      ]
    },
    {
      "cell_type": "markdown",
      "source": [
        "1.   Tokenization\n",
        "2.   Convert to Lower Case\n",
        "3.   Identifying Stopwords\n",
        "4.   Stemming\n",
        "\n",
        "    4.1.   Porterstemmer\n",
        "\n",
        "    4.2.   Snowballstemmer\n",
        "\n",
        "5.   Lemmatization\n",
        "6.   Vectorization\n",
        "7.   Removing Stopwords from Text"
      ],
      "metadata": {
        "id": "kcWI4OLWXrg5"
      }
    },
    {
      "cell_type": "code",
      "source": [
        "import nltk"
      ],
      "metadata": {
        "id": "1aeEd4GCUtWR"
      },
      "execution_count": 1,
      "outputs": []
    },
    {
      "cell_type": "code",
      "execution_count": 2,
      "metadata": {
        "id": "K3Ce5XPwEEtS"
      },
      "outputs": [],
      "source": [
        "text='The Sun Rises in the East'"
      ]
    },
    {
      "cell_type": "markdown",
      "source": [
        "1.Tokenization"
      ],
      "metadata": {
        "id": "biiHHRaZWyUm"
      }
    },
    {
      "cell_type": "code",
      "source": [
        "nltk.download('punkt')\n",
        "tokens=nltk.word_tokenize(text)\n",
        "print(tokens)"
      ],
      "metadata": {
        "colab": {
          "base_uri": "https://localhost:8080/"
        },
        "id": "2RKQ8DueULqz",
        "outputId": "240bc4b6-491a-47bd-ff98-86152b205bd9"
      },
      "execution_count": 3,
      "outputs": [
        {
          "output_type": "stream",
          "name": "stderr",
          "text": [
            "[nltk_data] Downloading package punkt to /root/nltk_data...\n",
            "[nltk_data]   Unzipping tokenizers/punkt.zip.\n"
          ]
        },
        {
          "output_type": "stream",
          "name": "stdout",
          "text": [
            "['The', 'Sun', 'Rises', 'in', 'the', 'East']\n"
          ]
        }
      ]
    },
    {
      "cell_type": "markdown",
      "source": [
        "ngrams"
      ],
      "metadata": {
        "id": "UczeDSXcW1jb"
      }
    },
    {
      "cell_type": "code",
      "source": [
        "#ngrams\n",
        "from nltk.util import ngrams"
      ],
      "metadata": {
        "id": "CHSqb5I5WJL9"
      },
      "execution_count": 4,
      "outputs": []
    },
    {
      "cell_type": "code",
      "source": [
        "ng1=list(ngrams( tokens,1))\n",
        "ng1"
      ],
      "metadata": {
        "colab": {
          "base_uri": "https://localhost:8080/"
        },
        "id": "NjMdt2xZkmJF",
        "outputId": "dc102c7f-a0a7-4e99-8066-27e3aeea16d0"
      },
      "execution_count": 5,
      "outputs": [
        {
          "output_type": "execute_result",
          "data": {
            "text/plain": [
              "[('The',), ('Sun',), ('Rises',), ('in',), ('the',), ('East',)]"
            ]
          },
          "metadata": {},
          "execution_count": 5
        }
      ]
    },
    {
      "cell_type": "code",
      "source": [
        "ng2=list(ngrams(nltk.word_tokenize(text),2))\n",
        "ng2"
      ],
      "metadata": {
        "colab": {
          "base_uri": "https://localhost:8080/"
        },
        "id": "cailWf4Pk26w",
        "outputId": "0b0bfb24-dc48-40b4-a88a-cc2d7d6618ed"
      },
      "execution_count": 6,
      "outputs": [
        {
          "output_type": "execute_result",
          "data": {
            "text/plain": [
              "[('The', 'Sun'),\n",
              " ('Sun', 'Rises'),\n",
              " ('Rises', 'in'),\n",
              " ('in', 'the'),\n",
              " ('the', 'East')]"
            ]
          },
          "metadata": {},
          "execution_count": 6
        }
      ]
    },
    {
      "cell_type": "code",
      "source": [
        "ng3=list(ngrams(nltk.word_tokenize(text),3))\n",
        "ng3"
      ],
      "metadata": {
        "colab": {
          "base_uri": "https://localhost:8080/"
        },
        "id": "nwVUmuhEk679",
        "outputId": "c78a6437-07ee-401f-f1f1-35bbf29761e9"
      },
      "execution_count": 7,
      "outputs": [
        {
          "output_type": "execute_result",
          "data": {
            "text/plain": [
              "[('The', 'Sun', 'Rises'),\n",
              " ('Sun', 'Rises', 'in'),\n",
              " ('Rises', 'in', 'the'),\n",
              " ('in', 'the', 'East')]"
            ]
          },
          "metadata": {},
          "execution_count": 7
        }
      ]
    },
    {
      "cell_type": "markdown",
      "source": [
        "2.Convert to Lower Case"
      ],
      "metadata": {
        "id": "lMYMKySblcsD"
      }
    },
    {
      "cell_type": "code",
      "source": [
        "lower_tokens=list(map(lambda x:x.lower(),tokens))\n",
        "lower_tokens"
      ],
      "metadata": {
        "colab": {
          "base_uri": "https://localhost:8080/"
        },
        "id": "wXxGrH8KlfBt",
        "outputId": "808250a4-b11d-43ee-915c-62c4a0095860"
      },
      "execution_count": 8,
      "outputs": [
        {
          "output_type": "execute_result",
          "data": {
            "text/plain": [
              "['the', 'sun', 'rises', 'in', 'the', 'east']"
            ]
          },
          "metadata": {},
          "execution_count": 8
        }
      ]
    },
    {
      "cell_type": "markdown",
      "source": [
        "3.Identification of stopwords"
      ],
      "metadata": {
        "id": "rpKWegGN_WE2"
      }
    },
    {
      "cell_type": "code",
      "source": [
        "from nltk.stem.snowball import stopwords\n",
        "nltk.download('stopwords')\n",
        "sw=stopwords.words('english')\n",
        "print(sw)\n",
        "print(len(sw))"
      ],
      "metadata": {
        "colab": {
          "base_uri": "https://localhost:8080/"
        },
        "id": "ItgO8rQ9_bqj",
        "outputId": "29dbf300-0f8e-4095-97db-4e57a2e08570"
      },
      "execution_count": 9,
      "outputs": [
        {
          "output_type": "stream",
          "name": "stdout",
          "text": [
            "['i', 'me', 'my', 'myself', 'we', 'our', 'ours', 'ourselves', 'you', \"you're\", \"you've\", \"you'll\", \"you'd\", 'your', 'yours', 'yourself', 'yourselves', 'he', 'him', 'his', 'himself', 'she', \"she's\", 'her', 'hers', 'herself', 'it', \"it's\", 'its', 'itself', 'they', 'them', 'their', 'theirs', 'themselves', 'what', 'which', 'who', 'whom', 'this', 'that', \"that'll\", 'these', 'those', 'am', 'is', 'are', 'was', 'were', 'be', 'been', 'being', 'have', 'has', 'had', 'having', 'do', 'does', 'did', 'doing', 'a', 'an', 'the', 'and', 'but', 'if', 'or', 'because', 'as', 'until', 'while', 'of', 'at', 'by', 'for', 'with', 'about', 'against', 'between', 'into', 'through', 'during', 'before', 'after', 'above', 'below', 'to', 'from', 'up', 'down', 'in', 'out', 'on', 'off', 'over', 'under', 'again', 'further', 'then', 'once', 'here', 'there', 'when', 'where', 'why', 'how', 'all', 'any', 'both', 'each', 'few', 'more', 'most', 'other', 'some', 'such', 'no', 'nor', 'not', 'only', 'own', 'same', 'so', 'than', 'too', 'very', 's', 't', 'can', 'will', 'just', 'don', \"don't\", 'should', \"should've\", 'now', 'd', 'll', 'm', 'o', 're', 've', 'y', 'ain', 'aren', \"aren't\", 'couldn', \"couldn't\", 'didn', \"didn't\", 'doesn', \"doesn't\", 'hadn', \"hadn't\", 'hasn', \"hasn't\", 'haven', \"haven't\", 'isn', \"isn't\", 'ma', 'mightn', \"mightn't\", 'mustn', \"mustn't\", 'needn', \"needn't\", 'shan', \"shan't\", 'shouldn', \"shouldn't\", 'wasn', \"wasn't\", 'weren', \"weren't\", 'won', \"won't\", 'wouldn', \"wouldn't\"]\n",
            "179\n"
          ]
        },
        {
          "output_type": "stream",
          "name": "stderr",
          "text": [
            "[nltk_data] Downloading package stopwords to /root/nltk_data...\n",
            "[nltk_data]   Unzipping corpora/stopwords.zip.\n"
          ]
        }
      ]
    },
    {
      "cell_type": "markdown",
      "source": [
        "4.Stemming"
      ],
      "metadata": {
        "id": "gC232QwXCVU0"
      }
    },
    {
      "cell_type": "code",
      "source": [
        "#Porterstemmer\n",
        "from nltk.stem import PorterStemmer\n",
        "ps=PorterStemmer()\n",
        "for w in lower_tokens:\n",
        "  print(w,\":\",ps.stem(w))"
      ],
      "metadata": {
        "colab": {
          "base_uri": "https://localhost:8080/"
        },
        "id": "BrYoguEXCTmx",
        "outputId": "f3d5af84-2ee7-4176-da7c-0556407d713f"
      },
      "execution_count": 10,
      "outputs": [
        {
          "output_type": "stream",
          "name": "stdout",
          "text": [
            "the : the\n",
            "sun : sun\n",
            "rises : rise\n",
            "in : in\n",
            "the : the\n",
            "east : east\n"
          ]
        }
      ]
    },
    {
      "cell_type": "code",
      "source": [
        "#Snowballstemmer\n",
        "from nltk.stem import SnowballStemmer\n",
        "sn=SnowballStemmer('english')\n",
        "for w in lower_tokens:\n",
        "  print(w,\":\",sn.stem(w))"
      ],
      "metadata": {
        "colab": {
          "base_uri": "https://localhost:8080/"
        },
        "id": "2Gcr1_eYCbMX",
        "outputId": "35e6767e-56fc-4d9e-afb4-4d0727afb6f5"
      },
      "execution_count": 11,
      "outputs": [
        {
          "output_type": "stream",
          "name": "stdout",
          "text": [
            "the : the\n",
            "sun : sun\n",
            "rises : rise\n",
            "in : in\n",
            "the : the\n",
            "east : east\n"
          ]
        }
      ]
    },
    {
      "cell_type": "markdown",
      "source": [
        "5.Lemmatization"
      ],
      "metadata": {
        "id": "D4yHF4qQDGFW"
      }
    },
    {
      "cell_type": "code",
      "source": [
        "from nltk.stem import WordNetLemmatizer\n",
        "lem=WordNetLemmatizer()\n",
        "nltk.download('wordnet')\n",
        "for w in lower_tokens:\n",
        "  print(w,\":\",lem.lemmatize(w))"
      ],
      "metadata": {
        "colab": {
          "base_uri": "https://localhost:8080/"
        },
        "id": "RzDhKsq7DOFP",
        "outputId": "d50856d0-91bf-4561-9a91-949d8540cf29"
      },
      "execution_count": 12,
      "outputs": [
        {
          "output_type": "stream",
          "name": "stderr",
          "text": [
            "[nltk_data] Downloading package wordnet to /root/nltk_data...\n"
          ]
        },
        {
          "output_type": "stream",
          "name": "stdout",
          "text": [
            "the : the\n",
            "sun : sun\n",
            "rises : rise\n",
            "in : in\n",
            "the : the\n",
            "east : east\n"
          ]
        }
      ]
    },
    {
      "cell_type": "code",
      "source": [
        "for w in lower_tokens:\n",
        "  print(w,\":\",lem.lemmatize(w,pos='v'))"
      ],
      "metadata": {
        "colab": {
          "base_uri": "https://localhost:8080/"
        },
        "id": "Rw_n8aVmDdig",
        "outputId": "9cc99d92-de8f-4925-ece6-fb70d28875fd"
      },
      "execution_count": 13,
      "outputs": [
        {
          "output_type": "stream",
          "name": "stdout",
          "text": [
            "the : the\n",
            "sun : sun\n",
            "rises : rise\n",
            "in : in\n",
            "the : the\n",
            "east : east\n"
          ]
        }
      ]
    },
    {
      "cell_type": "markdown",
      "source": [
        "6.Vectorization"
      ],
      "metadata": {
        "id": "Awr-8ahPD0OB"
      }
    },
    {
      "cell_type": "code",
      "source": [
        "from sklearn.feature_extraction.text import TfidfVectorizer\n",
        "vect=TfidfVectorizer()\n",
        "X=vect.fit_transform(lower_tokens)\n",
        "print(X)"
      ],
      "metadata": {
        "colab": {
          "base_uri": "https://localhost:8080/"
        },
        "id": "XiI2m1yODl9k",
        "outputId": "d2d243ab-cbaa-4774-d57d-9300d49dc9ba"
      },
      "execution_count": 14,
      "outputs": [
        {
          "output_type": "stream",
          "name": "stdout",
          "text": [
            "  (0, 4)\t1.0\n",
            "  (1, 3)\t1.0\n",
            "  (2, 2)\t1.0\n",
            "  (3, 1)\t1.0\n",
            "  (4, 4)\t1.0\n",
            "  (5, 0)\t1.0\n"
          ]
        }
      ]
    },
    {
      "cell_type": "code",
      "source": [
        "vect.get_feature_names_out()"
      ],
      "metadata": {
        "colab": {
          "base_uri": "https://localhost:8080/"
        },
        "id": "j4p8TwjeD58F",
        "outputId": "5ad02331-ec56-4d4e-e271-9bfdd6ae93b4"
      },
      "execution_count": 15,
      "outputs": [
        {
          "output_type": "execute_result",
          "data": {
            "text/plain": [
              "array(['east', 'in', 'rises', 'sun', 'the'], dtype=object)"
            ]
          },
          "metadata": {},
          "execution_count": 15
        }
      ]
    },
    {
      "cell_type": "markdown",
      "source": [
        "7.Removing Stopwords"
      ],
      "metadata": {
        "id": "8LbtdayUD3_L"
      }
    },
    {
      "cell_type": "code",
      "source": [
        "filter=[i for i in lower_tokens if i not in sw]\n",
        "filter"
      ],
      "metadata": {
        "colab": {
          "base_uri": "https://localhost:8080/"
        },
        "id": "KcoPxnKTEJNq",
        "outputId": "a032a05e-43fe-4234-a4c8-f346316d70a3"
      },
      "execution_count": 16,
      "outputs": [
        {
          "output_type": "execute_result",
          "data": {
            "text/plain": [
              "['sun', 'rises', 'east']"
            ]
          },
          "metadata": {},
          "execution_count": 16
        }
      ]
    }
  ]
}